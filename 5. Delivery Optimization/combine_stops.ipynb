{
 "cells": [
  {
   "cell_type": "code",
   "execution_count": 1,
   "metadata": {},
   "outputs": [],
   "source": [
    "import pandas as pd\n",
    "import numpy as np\n",
    "import os\n",
    "import sys\n",
    "from datetime import datetime, timedelta\n",
    "sys.path.append(\"../\")\n"
   ]
  },
  {
   "cell_type": "code",
   "execution_count": 2,
   "metadata": {},
   "outputs": [],
   "source": [
    "reductions = [\"tiny\",\"small\",\"med\",\"large\"]"
   ]
  },
  {
   "cell_type": "code",
   "execution_count": 3,
   "metadata": {},
   "outputs": [],
   "source": [
    "for r_size in reductions:\n",
    "    data_file = \"./data_\"+r_size+\"2/extraction_\"+r_size+\"2_mejor_coste.csv\"\n",
    "    stops_file = \"./data_\"+r_size+\"2/paradas.csv\"\n",
    "\n",
    "    extraction = pd.read_csv(data_file)\n",
    "    stops = pd.read_csv(stops_file)\n",
    "\n",
    "\n",
    "    stops[\"start_date\"] = pd.to_datetime(stops[\"descanso\"])\n",
    "    stops[\"end_date\"] = pd.to_datetime(stops[\"descanso\"]+\" 23:59:59\")\n",
    "    stops = stops.drop(\"descanso\",axis = 1)\n",
    "    stops[\"idPedido\"] = -1\n",
    "    stops[\"tipo\"] = \"Parada Programada\"\n",
    "    extraction[\"tipo\"] = \"Entrega\"\n",
    "    extraction = extraction.drop(\"late\",axis=1)\n",
    "\n",
    "    frames = [extraction,stops]\n",
    "    solu = pd.concat(frames)\n",
    "    solu.to_csv(\"rl_solution_\"+r_size+\"_mejor_coste.csv\")"
   ]
  },
  {
   "cell_type": "code",
   "execution_count": 4,
   "metadata": {},
   "outputs": [],
   "source": [
    "for r_size in reductions:\n",
    "    data_file = \"./data_\"+r_size+\"2/extraction_\"+r_size+\"2_tiempo_fijo.csv\"\n",
    "    stops_file = \"./data_\"+r_size+\"2/paradas.csv\"\n",
    "\n",
    "    extraction = pd.read_csv(data_file)\n",
    "    stops = pd.read_csv(stops_file)\n",
    "\n",
    "\n",
    "    stops[\"start_date\"] = pd.to_datetime(stops[\"descanso\"])\n",
    "    stops[\"end_date\"] = pd.to_datetime(stops[\"descanso\"]+\" 23:59:59\")\n",
    "    stops = stops.drop(\"descanso\",axis = 1)\n",
    "    stops[\"idPedido\"] = -1\n",
    "    stops[\"tipo\"] = \"Parada Programada\"\n",
    "    extraction[\"tipo\"] = \"Entrega\"\n",
    "    extraction = extraction.drop(\"late\",axis=1)\n",
    "    extraction.rename(columns={\"start_date\": \"fh_inicio\", \"end_date\": \"fh_fin\"})\n",
    "    stops.rename(columns={\"start_date\": \"fh_inicio\", \"end_date\": \"fh_fin\"})\n",
    "\n",
    "    frames = [extraction,stops]\n",
    "    solu = pd.concat(frames).reindex()\n",
    "    solu.to_csv(\"rl_solution_\"+r_size+\"_tiempo_fijo.csv\",index=False)"
   ]
  }
 ],
 "metadata": {
  "kernelspec": {
   "display_name": "Python 3.9.12 64-bit",
   "language": "python",
   "name": "python3"
  },
  "language_info": {
   "codemirror_mode": {
    "name": "ipython",
    "version": 3
   },
   "file_extension": ".py",
   "mimetype": "text/x-python",
   "name": "python",
   "nbconvert_exporter": "python",
   "pygments_lexer": "ipython3",
   "version": "3.9.12"
  },
  "orig_nbformat": 4,
  "vscode": {
   "interpreter": {
    "hash": "11938c6bc6919ae2720b4d5011047913343b08a43b18698fd82dedb0d4417594"
   }
  }
 },
 "nbformat": 4,
 "nbformat_minor": 2
}
